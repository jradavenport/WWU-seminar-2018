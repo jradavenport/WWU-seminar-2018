{
 "cells": [
  {
   "cell_type": "markdown",
   "metadata": {},
   "source": [
    "# Lab 4\n",
    "\n",
    "** Reminder: Be sure to DUPLICATE this file, and then rename it \"lab4-lastname.ipynb\" **"
   ]
  },
  {
   "cell_type": "code",
   "execution_count": null,
   "metadata": {
    "collapsed": true
   },
   "outputs": [],
   "source": [
    "%matplotlib inline\n",
    "import numpy as np\n",
    "import matplotlib.pyplot as plt\n",
    "\n",
    "import pandas as pd\n",
    "from astropy.io import fits"
   ]
  },
  {
   "cell_type": "markdown",
   "metadata": {},
   "source": [
    "# Part 2: Reading files and manipulating data"
   ]
  },
  {
   "cell_type": "markdown",
   "metadata": {},
   "source": [
    "### 2.1:  try reading data with `pd.read_table()`\n"
   ]
  },
  {
   "cell_type": "code",
   "execution_count": null,
   "metadata": {
    "collapsed": false
   },
   "outputs": [],
   "source": [
    "file = 'DATA.TBL'\n",
    "\n",
    "# use this very flexible, handy method to read the file in as a \"Data Frame\"\n",
    "df = pd.read_table(file, \n",
    "                   delim_whitespace=True, # this setting says use any whitespace as the separator\n",
    "                   skiprows=5, # some number of rows to skip for the header. Count them up!\n",
    "                   header=None, # don't automatically assign column names\n",
    "                   names=('ra', 'dec', 'j','je','js', 'h','he','hs','k','ke','ks','dist','ang'))\n",
    "# use the names=() to manually assign column names to use!\n",
    "\n",
    "# let's see what we've read in...\n",
    "df"
   ]
  },
  {
   "cell_type": "code",
   "execution_count": null,
   "metadata": {
    "collapsed": false
   },
   "outputs": [],
   "source": [
    "# You can call columns by name, if you add them properly!!\n",
    "\n",
    "# make the plot, use \"alpha\" to get some transparency. Fancy...\n",
    "plt.scatter(df['j'], df['k'], alpha=0.5)\n",
    "\n",
    "# NOTE: in (stellar) Astronomy, color goes on the X-axis, magnitude on the Y-axis with direction inverted!"
   ]
  },
  {
   "cell_type": "markdown",
   "metadata": {},
   "source": [
    "**2.3: Read an astronomy image (FITS) file **\n",
    "\n",
    "I can never remember how to use the astropy fits reader... so look at [the docs](http://docs.astropy.org/en/stable/io/fits/)!"
   ]
  },
  {
   "cell_type": "code",
   "execution_count": null,
   "metadata": {
    "collapsed": false
   },
   "outputs": [],
   "source": [
    "imfile = 'IMAGE.FITS'\n",
    "\n",
    "# open the flie\n",
    "hdulist = fits.open(imfile)\n",
    "\n",
    "# look at the available extensions (HDU's)\n",
    "hdulist.info()"
   ]
  },
  {
   "cell_type": "code",
   "execution_count": null,
   "metadata": {
    "collapsed": false
   },
   "outputs": [],
   "source": [
    "data = hdulist[0].data # usually you want the first (sometimes the second) extension\n",
    "hdulist.close() # be sure to close the file"
   ]
  },
  {
   "cell_type": "code",
   "execution_count": null,
   "metadata": {
    "collapsed": false
   },
   "outputs": [],
   "source": [
    "# now show the image!\n",
    "plt.imshow(data, origin='lower')\n",
    "\n",
    "# hint: you can make it look better by taking the log of the data!"
   ]
  },
  {
   "cell_type": "markdown",
   "metadata": {},
   "source": [
    "**2.4: Read a FITS data table**\n",
    "\n",
    "NOTE: FITS images are really just a special type of FITS tables"
   ]
  },
  {
   "cell_type": "code",
   "execution_count": null,
   "metadata": {
    "collapsed": false
   },
   "outputs": [],
   "source": [
    "dfile = 'datafile.fits'\n",
    "hdulist2 = fits.open(dfile)\n",
    "hdulist2.info()"
   ]
  },
  {
   "cell_type": "code",
   "execution_count": null,
   "metadata": {
    "collapsed": false
   },
   "outputs": [],
   "source": [
    "tbl = hdulist2[1].data\n",
    "hdulist2.close() # be sure to close it\n",
    "\n",
    "# Let's look at what Columns are available to be called by name...\n",
    "tbl.columns"
   ]
  },
  {
   "cell_type": "code",
   "execution_count": null,
   "metadata": {
    "collapsed": false
   },
   "outputs": [],
   "source": [
    "# now make a plot of the light curve!\n",
    "# can you spot the exoplanet, Kepler-7b?\n",
    "plt.plot(tbl['COL1'], tbl['COL2'])"
   ]
  },
  {
   "cell_type": "markdown",
   "metadata": {},
   "source": [
    "# Part 3: Writing data and plots to files\n",
    "\n",
    "Now we've read several kinds of data in to Python. Let's practice writing files!\n",
    "\n",
    "**3.1: Save a plot to a file**\n",
    "\n",
    "Save that sweet looking planetary nebula image..."
   ]
  },
  {
   "cell_type": "code",
   "execution_count": null,
   "metadata": {
    "collapsed": true
   },
   "outputs": [],
   "source": [
    "# try saving it both as a .png and a .pdf\n",
    "plt.imshow(data)\n",
    "plt.savefig('OUTPUT.png')\n",
    "\n",
    "# check out more options for the savefig method:\n",
    "# http://matplotlib.org/api/pyplot_api.html#matplotlib.pyplot.savefig"
   ]
  },
  {
   "cell_type": "code",
   "execution_count": null,
   "metadata": {
    "collapsed": true
   },
   "outputs": [],
   "source": [
    "# here are some settings that *I use* when plotting, to make sure things fit on a page correctly:\n",
    "plt.savefig('myplot.png', dpi=300, bbox_inches='tight', pad_inches=0.25)"
   ]
  },
  {
   "cell_type": "markdown",
   "metadata": {},
   "source": [
    "**3.2: Save some data to a file**\n",
    "\n",
    "There are a LOT of ways to save data to a file...\n",
    "- https://docs.python.org/2/tutorial/inputoutput.html\n",
    "- FITS via `astropy.io.fits` (good for writing images, or sending data to other astronomers)\n",
    "- CSV via `pd.DataFrame.to_csv` (awesome if you commit to Pandas)\n",
    "- save a binary file using `pickle` (fast to re-ingest, but impossible to casually read)\n",
    "- array to textfile via `np.savetxt` (great for quickly generating a data file)\n",
    "- manually write a file line-by-line using `open`/`write` (old school, but important!)"
   ]
  },
  {
   "cell_type": "code",
   "execution_count": null,
   "metadata": {
    "collapsed": true
   },
   "outputs": [],
   "source": [
    "# use any method you choose to save the (ra, dec, J, K) data within 0.25 deg of the field center to a file\n",
    "# how many lines does your file have?\n",
    "# header is optional, but useful for Future You (or *me*) to read this file\n",
    "\n",
    "# here's how you might do this manually. Note you need to add New Line characters! Boo...\n",
    "ff = open('text.csv', 'w')\n",
    "\n",
    "ff.write('HEADER INFO \\n')\n",
    "for k in range(len(Jdata)):\n",
    "    ff.write(str(Jdata[k]) + ',' + str(Kdata[k]) + '\\n')\n",
    "ff.close()"
   ]
  },
  {
   "cell_type": "code",
   "execution_count": null,
   "metadata": {
    "collapsed": false
   },
   "outputs": [],
   "source": [
    "# here's my favorite: create a NEW dataframe with Pandas!\n",
    "df_new = pd.DataFrame(data={'x':xdata[sample], 'y':ydata[sample]})\n",
    "\n",
    "df_new.to_csv('newfile.csv')"
   ]
  },
  {
   "cell_type": "code",
   "execution_count": null,
   "metadata": {
    "collapsed": true
   },
   "outputs": [],
   "source": []
  }
 ],
 "metadata": {
  "kernelspec": {
   "display_name": "Python 2",
   "language": "python",
   "name": "python2"
  },
  "language_info": {
   "codemirror_mode": {
    "name": "ipython",
    "version": 2
   },
   "file_extension": ".py",
   "mimetype": "text/x-python",
   "name": "python",
   "nbconvert_exporter": "python",
   "pygments_lexer": "ipython2",
   "version": "2.7.13"
  }
 },
 "nbformat": 4,
 "nbformat_minor": 0
}
