{
 "cells": [
  {
   "cell_type": "markdown",
   "metadata": {},
   "source": [
    "# Lab 8: Some Machine Learning exploration using Gaia DR2\n",
    "\n",
    "Let's look at a chunk of data around the young cluster \"Praesepe\", and see if we can pick out the most likely cluster memebers!\n",
    "\n",
    "I would suggest using various [clustering algorithms](http://scikit-learn.org/stable/modules/clustering.html) within scikit-learn.\n",
    "\n",
    "**IN FACT:** it would be _awesome_ to reproduce that clustering example grid using this data...!\n",
    "\n",
    "Ways forward (e.g. things we *might* try today)\n",
    "- do clustering on just the proper motions\n",
    "- do clustering on proper motions AND spatial positions (RA, Dec, dist)\n",
    "- do clustering on proper motions, spatial positions, AND color-magnitude diagram positions!"
   ]
  },
  {
   "cell_type": "code",
   "execution_count": null,
   "metadata": {},
   "outputs": [],
   "source": [
    "%matplotlib inline\n",
    "import numpy as np\n",
    "import pandas as pd\n",
    "import matplotlib.pyplot as plt\n",
    "\n",
    "import matplotlib\n",
    "matplotlib.rcParams.update({'font.size':18})\n",
    "matplotlib.rcParams.update({'font.family':'serif'})\n",
    "\n",
    "from astropy.io import fits"
   ]
  },
  {
   "cell_type": "code",
   "execution_count": null,
   "metadata": {},
   "outputs": [],
   "source": [
    "file = 'data/Praesepe_GaiaDR2.fit'\n",
    "hdu = fits.open(file)\n",
    "data = hdu[1].data"
   ]
  },
  {
   "cell_type": "code",
   "execution_count": null,
   "metadata": {},
   "outputs": [],
   "source": [
    "data.columns"
   ]
  },
  {
   "cell_type": "code",
   "execution_count": null,
   "metadata": {},
   "outputs": [],
   "source": [
    "plt.scatter(data['BP-RP'], data['Gmag'], s=5, alpha=0.1)\n",
    "plt.ylim(22,3)\n",
    "plt.xlabel('BP-RP')\n",
    "plt.ylabel(r'$m_G$')"
   ]
  },
  {
   "cell_type": "code",
   "execution_count": null,
   "metadata": {},
   "outputs": [],
   "source": [
    "mu = 5 - 5*np.log10(1000./data['Plx'])\n",
    "plt.scatter(data['BP-RP'], data['Gmag'] + mu, s=1, alpha=0.1)\n",
    "plt.ylim(15,-3)\n",
    "plt.xlabel('BP-RP')\n",
    "plt.ylabel(r'$M_G$')"
   ]
  },
  {
   "cell_type": "code",
   "execution_count": null,
   "metadata": {},
   "outputs": [],
   "source": [
    "# let's defintely try GMM (easiest first!)"
   ]
  },
  {
   "cell_type": "code",
   "execution_count": null,
   "metadata": {},
   "outputs": [],
   "source": []
  },
  {
   "cell_type": "code",
   "execution_count": null,
   "metadata": {},
   "outputs": [],
   "source": [
    "# now lets try DBSCAN\n",
    "from sklearn.cluster import DBSCAN"
   ]
  }
 ],
 "metadata": {
  "kernelspec": {
   "display_name": "Python [conda env:anaconda]",
   "language": "python",
   "name": "conda-env-anaconda-py"
  },
  "language_info": {
   "codemirror_mode": {
    "name": "ipython",
    "version": 2
   },
   "file_extension": ".py",
   "mimetype": "text/x-python",
   "name": "python",
   "nbconvert_exporter": "python",
   "pygments_lexer": "ipython2",
   "version": "2.7.15"
  }
 },
 "nbformat": 4,
 "nbformat_minor": 2
}
