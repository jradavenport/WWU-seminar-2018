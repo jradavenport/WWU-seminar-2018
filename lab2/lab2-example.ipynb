{
 "cells": [
  {
   "cell_type": "markdown",
   "metadata": {},
   "source": [
    "# Algorithms 1: Do Something!\n",
    "\n",
    "Today's exercise is to make a piece of code that completes a useful task, but write it as generalized as possible to be reusable for other people (including Future You)!"
   ]
  },
  {
   "cell_type": "code",
   "execution_count": null,
   "metadata": {
    "collapsed": true
   },
   "outputs": [],
   "source": [
    "%matplotlib inline\n",
    "import numpy as np\n",
    "import pandas as pd\n",
    "import matplotlib.pyplot as plt"
   ]
  },
  {
   "cell_type": "markdown",
   "metadata": {},
   "source": [
    "## Documentation\n",
    "\n",
    "A \"Docstring\" is required for every function you write. Otherwise you will forget what it does and how it does it!\n",
    "\n",
    "One very common docstring format is the \"[NumPy/SciPy](https://github.com/numpy/numpy/blob/master/doc/HOWTO_DOCUMENT.rst.txt)\" standard:\n",
    "\n",
    "Below is a working function with a valid docstring as an example:"
   ]
  },
  {
   "cell_type": "code",
   "execution_count": null,
   "metadata": {
    "collapsed": true
   },
   "outputs": [],
   "source": [
    "def MyFunc(arg1, arg2, kwarg1=5.0):\n",
    "    '''\n",
    "    This is a function to calculate the number of quatloos required\n",
    "    to reverse the polarity of a neutron flow.\n",
    "    \n",
    "    Parameters\n",
    "    ----------\n",
    "    arg1 : float\n",
    "        How many bleeps per blorp\n",
    "    arg2 : float\n",
    "        The foo/bar parameter\n",
    "    kwarg1 : float, optional\n",
    "        The quatloo to gold-pressed-latinum exchange rate\n",
    "    Returns\n",
    "    -------\n",
    "    float\n",
    "        A specific resultification index\n",
    "    '''\n",
    "    \n",
    "    if kwarg1 > 5.0:\n",
    "        print(\"wow, that's a lot of quatloos...\")\n",
    "\n",
    "    # this is the classical formula we learn in grade school\n",
    "    output = arg1 + arg2 * kwarg1\n",
    "        \n",
    "    return output"
   ]
  },
  {
   "cell_type": "code",
   "execution_count": null,
   "metadata": {
    "collapsed": false
   },
   "outputs": [],
   "source": [
    "# how to use the function\n",
    "x = MyFunc(7,8, kwarg1=9.2)"
   ]
  },
  {
   "cell_type": "code",
   "execution_count": null,
   "metadata": {
    "collapsed": false
   },
   "outputs": [],
   "source": [
    "# Check out the function's result\n",
    "print(x)"
   ]
  },
  {
   "cell_type": "code",
   "execution_count": null,
   "metadata": {
    "collapsed": true
   },
   "outputs": [],
   "source": [
    "# convert Kelvin to Fahrenheit\n",
    "# YOUR FUNCTION HERE\n"
   ]
  },
  {
   "cell_type": "markdown",
   "metadata": {},
   "source": [
    "## Today's Algorithm\n",
    "\n",
    "Here's the goal:\n",
    "\n",
    "**Which constellation is a given point in?**\n",
    "\n",
    "This is where you could find the detailed constellation boundary lines data:\n",
    "http://vizier.cfa.harvard.edu/viz-bin/Cat?cat=VI%2F49\n",
    "You could use this data and do the full \"Ray Casting\" approach, or even cheat using matpltlib functions!\n",
    "http://stackoverflow.com/a/23453678\n",
    "\n",
    "**BUT**\n",
    "A simplified approach has been developed (that you should use!) from [Roman (1987)](http://cdsads.u-strasbg.fr/abs/1987PASP...99..695R)"
   ]
  },
  {
   "cell_type": "code",
   "execution_count": null,
   "metadata": {
    "collapsed": false,
    "scrolled": true
   },
   "outputs": [],
   "source": [
    "# This is how to read in the coordinates and constellation names using Pandas\n",
    "# (this is a cleaned up version of Table 1 from Roman (1987) I prepared for you!)\n",
    "\n",
    "df = pd.read_csv('data/data.csv')\n",
    "df"
   ]
  },
  {
   "cell_type": "code",
   "execution_count": null,
   "metadata": {
    "collapsed": true
   },
   "outputs": [],
   "source": [
    "# TESTS FOR YOUR FUNCTION!\n",
    "\n",
    "# these coordinates SHOULD be in constellation \"LYR\"\n",
    "ra=18.62\n",
    "dec=38.78\n",
    "\n",
    "# these should be in \"APS\"\n",
    "ra=14.78\n",
    "dec=-79.03\n"
   ]
  }
 ],
 "metadata": {
  "kernelspec": {
   "display_name": "Python 2",
   "language": "python",
   "name": "python2"
  },
  "language_info": {
   "codemirror_mode": {
    "name": "ipython",
    "version": 2
   },
   "file_extension": ".py",
   "mimetype": "text/x-python",
   "name": "python",
   "nbconvert_exporter": "python",
   "pygments_lexer": "ipython2",
   "version": "2.7.13"
  }
 },
 "nbformat": 4,
 "nbformat_minor": 1
}
