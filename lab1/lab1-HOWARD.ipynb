{
 "cells": [
  {
   "cell_type": "markdown",
   "metadata": {},
   "source": [
    "# Lab 1: Tools of the trade\n",
    "\n",
    "## Goal:\n",
    "At what radial step do you enclose half of the Earth's mass?\n",
    "\n",
    "We all know the formula for the mass of a sphere:\n",
    "$ M = \\frac{4}{3} \\pi R^3 \\times \\rho $\n",
    "\n",
    "Note that the density here is provided in *shells* of radius, so you need to add them as you go.\n",
    "\n",
    "$ M_i = \\frac{4}{3} \\pi (R_{i+1}^3 - R_i^3) \\times \\rho_i $\n",
    "\n",
    "## Approach:\n",
    "- Import the data.\n",
    "- Create arrays for radius and density.\n",
    "- Calculate the mass at each radial step and put it into a shell mass array.\n",
    "- Sum up the entries in the shell mass array for total mass.\n",
    "- Cumulatively sum up the enteries in the shell mass array for an enclosed mass array.\n",
    "- Isolate the values greater than half the mass of the Earth.\n",
    "- Graph radius vs. enclosed mass with an overlay of the isolated set.\n",
    "- Find the highest radius value in the isolated set.\n",
    "\n",
    "## Alternative:\n",
    "- Import the data.\n",
    "- Create arrays for radius and density.\n",
    "- Calculate the mass at each radial step and put it into a shell mass array.\n",
    "- Sum up the entries in the shell mass array for total mass.\n",
    "- Cumulatively sum up the enteries in the shell mass array for an enclosed mass array.\n",
    "- Iterate through the enclosed mass array until you find the last value that is greater than half the mass of the Earth.\n",
    "\n",
    "## Key Variables:\n",
    "- rad: Radius array, holds the radius data from the imported file.\n",
    "- den: Density array, holds the density data from the imported file.\n",
    "- shell: Shell mass array, holds the masses of each radial shell.\n",
    "- enclosed: Enclosed mass array, holds the enclosed mass at each radial step.\n",
    "- total: Total mass, the total mass of the Earth.\n",
    "- half: Half mass array, the values in emass that are greater than half the mass of Earth."
   ]
  },
  {
   "cell_type": "code",
   "execution_count": null,
   "metadata": {},
   "outputs": [],
   "source": [
    "# Importing Python modules\n",
    "\n",
    "# some magic to make plots appear IN the notebook (not pop out like normal matplotlib)\n",
    "%matplotlib inline \n",
    "\n",
    "import numpy as np # our basic math/numbers library\n",
    "import matplotlib.pyplot as plt # the standard plotting package\n",
    "import pandas as pd # PANDAS: a data science and analysis package we'll use all Quarter!!"
   ]
  },
  {
   "cell_type": "code",
   "execution_count": null,
   "metadata": {},
   "outputs": [],
   "source": [
    "# Read in data\n",
    "\n",
    "# file from: http://ds.iris.edu/ds/products/emc-prem/\n",
    "# based on Dziewonski & Anderson (1981) http://adsabs.harvard.edu/abs/1981PEPI...25..297D\n",
    "\n",
    "file = 'PREM_1s.csv'\n",
    "df = pd.read_csv(file)"
   ]
  },
  {
   "cell_type": "code",
   "execution_count": null,
   "metadata": {},
   "outputs": [],
   "source": []
  },
  {
   "cell_type": "code",
   "execution_count": null,
   "metadata": {},
   "outputs": [],
   "source": [
    "# Create an array for radius and density, and a placeholder for the array of mass shells.\n",
    "rad=df['radius']\n",
    "den=df['density']\n",
    "shell=np.zeros_like(rad)\n",
    "\n",
    "# Create an array of the mass at each radial step.\n",
    "for i in range (0,198):\n",
    "    shell[i]= (4/3) * np.pi * (rad[i]**3 - rad[i+1]**3) * den[i]"
   ]
  },
  {
   "cell_type": "code",
   "execution_count": null,
   "metadata": {},
   "outputs": [],
   "source": [
    "# Calculate the mass at each radial step and put it into a shell mass array.\n",
    "enclosed = np.cumsum(shell)\n",
    "\n",
    "# Sum up the entries in the shell mass array for total mass.\n",
    "total = np.sum(shell)\n"
   ]
  },
  {
   "cell_type": "code",
   "execution_count": null,
   "metadata": {},
   "outputs": [],
   "source": [
    "# Isolate the values greater than half the mass of the Earth.\n",
    "half = np.where((enclosed >= (total/2)))[0]\n",
    "\n",
    "# Graph radius vs. enclosed mass with an overlay of the isolated set.\n",
    "plt.figure(figsize=(8,5))\n",
    "plt.plot(rad, enclosed)\n",
    "plt.title('Mass vs. Radius')\n",
    "plt.xlabel('Radius (km)')\n",
    "plt.ylabel('Mass (kg)')\n",
    "plt.scatter(rad[half], enclosed[half], c='red', lw=0)"
   ]
  },
  {
   "cell_type": "code",
   "execution_count": null,
   "metadata": {},
   "outputs": [],
   "source": [
    "print(\"At what radial step do you enclose half of the Earth's mass?\", np.max(rad[half]), \"meters from the core.\")"
   ]
  },
  {
   "cell_type": "code",
   "execution_count": null,
   "metadata": {},
   "outputs": [],
   "source": []
  },
  {
   "cell_type": "code",
   "execution_count": null,
   "metadata": {},
   "outputs": [],
   "source": [
    "# Iterate through the enclosed mass array until you find the last value that is greater than half the mass of the Earth.\n",
    "\n",
    "i = -1 # i was used previously, restoring value back to -1 to ensure that index 0 is accounted for.\n",
    "\n",
    "while True:\n",
    "    i = i + 1\n",
    "    if (enclosed[i] >= (total/2)):\n",
    "        print(\"At what radial step do you enclose half of the Earth's mass?\", rad[i], \"meters from the core.\")\n",
    "        break"
   ]
  },
  {
   "cell_type": "code",
   "execution_count": null,
   "metadata": {},
   "outputs": [],
   "source": []
  }
 ],
 "metadata": {
  "kernelspec": {
   "display_name": "Python 3",
   "language": "python",
   "name": "python3"
  },
  "language_info": {
   "codemirror_mode": {
    "name": "ipython",
    "version": 3
   },
   "file_extension": ".py",
   "mimetype": "text/x-python",
   "name": "python",
   "nbconvert_exporter": "python",
   "pygments_lexer": "ipython3",
   "version": "3.6.4"
  }
 },
 "nbformat": 4,
 "nbformat_minor": 1
}
