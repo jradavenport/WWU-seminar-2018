{
 "cells": [
  {
   "cell_type": "code",
   "execution_count": null,
   "metadata": {},
   "outputs": [],
   "source": [
    "'''\n",
    "Standard things to import...\n",
    "'''\n",
    "%matplotlib inline\n",
    "import numpy as np\n",
    "import matplotlib.pyplot as plt\n",
    "from astropy.io import fits"
   ]
  },
  {
   "cell_type": "code",
   "execution_count": null,
   "metadata": {
    "collapsed": true
   },
   "outputs": [],
   "source": [
    "'''\n",
    "Lets import some other new things!\n",
    "'''\n",
    "\n",
    "import matplotlib # going to use this to change some settings (next cell)\n",
    "\n",
    "from matplotlib.colors import LogNorm # this lets us scale color outputs using Log instead of Linear\n",
    "\n",
    "import matplotlib.cm as cm # this gives access to the standard colormaps (besides rainbow)"
   ]
  },
  {
   "cell_type": "code",
   "execution_count": null,
   "metadata": {
    "collapsed": true
   },
   "outputs": [],
   "source": [
    "'''\n",
    "this is how you can change the default properties of plot text\n",
    "Search Goolge for more examples of changing rcParams to get other fonts, styles, etc\n",
    "'''\n",
    "matplotlib.rcParams.update({'font.size':11}) \n",
    "matplotlib.rcParams.update({'font.family':'serif'})"
   ]
  },
  {
   "cell_type": "code",
   "execution_count": null,
   "metadata": {},
   "outputs": [],
   "source": [
    "# remember how to open FITS tables from last week (or go back and review)\n",
    "dfile = 'data.fit'\n",
    "\n",
    "# our data comes from the HIPPARCOS mission: http://adsabs.harvard.edu/abs/1997ESASP1200.....E\n",
    "# I used Vizier to make a smaller version of the table for ease of reading\n",
    "\n",
    "hdulist2 = fits.open(dfile)\n",
    "hdulist2.info() # print the extensions"
   ]
  },
  {
   "cell_type": "code",
   "execution_count": null,
   "metadata": {},
   "outputs": [],
   "source": [
    "tbl = hdulist2[1].data # get the data from the 2nd extension\n",
    "hdulist2.close() # close the file\n",
    "tbl.columns # print the columns available (can be called by name!)"
   ]
  },
  {
   "cell_type": "code",
   "execution_count": null,
   "metadata": {},
   "outputs": [],
   "source": [
    "# you can make plots by calling columns by name!\n",
    "plt.plot(tbl['col1'], tbl['col2'], alpha=0.2)"
   ]
  },
  {
   "cell_type": "markdown",
   "metadata": {},
   "source": [
    "You'll need to compute the absolute magnitude of the stars. Recall the formula:\n",
    "\n",
    "$M_v = -5 \\log_{10}(1/\\pi) + 5 + m_V$\n",
    "\n",
    "Where $\\pi$ is the parallax in arcseconds, $m_V$ is the apparent magnitude in the V-band"
   ]
  },
  {
   "cell_type": "code",
   "execution_count": null,
   "metadata": {},
   "outputs": [],
   "source": [
    "'''\n",
    "Find stars with \"good\" data\n",
    "I required errors for B-V greater than 0 and less than or equal to 0.05mag\n",
    "I required errors on parallax to be greater than 0 and less than or equal to 5\n",
    "\n",
    "Finally, I required the absolute magnitudes to be real numbers (no Nulls, NaN's, Infs, etc)\n",
    "'''\n",
    "\n",
    "# here is most of what you need. Finish it!\n",
    "ok = np.where((tbl['e_B-V'] <= 0.05) &\n",
    "              (tbl['e_Plx'] > 0) & \n",
    "              np.isfinite(Mv))"
   ]
  },
  {
   "cell_type": "code",
   "execution_count": null,
   "metadata": {},
   "outputs": [],
   "source": [
    "plt.figure( figsize=(7,5) ) \n",
    "# here's a freebie: I used a 10x8 figsize\n",
    "\n",
    "plt.hist2d(x, y, \n",
    "           bins=(10,20), # set the number of bins in the X and Y direction. You'll have to guess what I used\n",
    "           norm=LogNorm(), # scale the colors using log, not linear (default)\n",
    "           cmap = cm.Spectral) # change the colormap\n",
    "\n",
    "# the B-V color of the Sun is 0.635 mag\n",
    "\n",
    "# use plt.annotate to put words on the plot, set their colors, fontsizes, and rotation\n",
    "\n",
    "plt.ylabel('$m_{V}$') # you can put (some) LaTeX math in matplotlib titles/labels\n",
    "\n",
    "cb = plt.colorbar() # make a colorbar magically appear\n",
    "\n",
    "\n",
    "# more freebies: this is the exact resolution and padding I used to make the figure file\n",
    "plt.savefig('FILENAME.png', \n",
    "            dpi=300, # set the resolution\n",
    "            bbox_inches='tight', # make the figure fill the window size\n",
    "            pad_inches=0.5) # give a buffer so text doesnt spill off side of plot"
   ]
  },
  {
   "cell_type": "code",
   "execution_count": null,
   "metadata": {
    "collapsed": true
   },
   "outputs": [],
   "source": []
  }
 ],
 "metadata": {
  "kernelspec": {
   "display_name": "Python [anaconda]",
   "language": "python",
   "name": "Python [anaconda]"
  },
  "language_info": {
   "codemirror_mode": {
    "name": "ipython",
    "version": 2
   },
   "file_extension": ".py",
   "mimetype": "text/x-python",
   "name": "python",
   "nbconvert_exporter": "python",
   "pygments_lexer": "ipython2",
   "version": "2.7.14"
  }
 },
 "nbformat": 4,
 "nbformat_minor": 1
}
