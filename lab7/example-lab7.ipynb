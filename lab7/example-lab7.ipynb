{
 "cells": [
  {
   "cell_type": "code",
   "execution_count": null,
   "metadata": {
    "collapsed": true
   },
   "outputs": [],
   "source": [
    "%matplotlib inline\n",
    "import numpy as np\n",
    "import pandas as pd\n",
    "import matplotlib.pyplot as plt\n",
    "\n",
    "import matplotlib.cm as cm\n",
    "\n",
    "import matplotlib\n",
    "matplotlib.rcParams.update({'font.size':18})\n",
    "matplotlib.rcParams.update({'font.family':'serif'})\n",
    "\n",
    "from matplotlib.colors import LogNorm\n",
    "\n",
    "from astropy.io import fits"
   ]
  },
  {
   "cell_type": "code",
   "execution_count": null,
   "metadata": {
    "collapsed": true
   },
   "outputs": [],
   "source": [
    "from scipy.optimize import curve_fit"
   ]
  },
  {
   "cell_type": "code",
   "execution_count": null,
   "metadata": {
    "collapsed": false
   },
   "outputs": [],
   "source": [
    "# read the SNe data in\n",
    "file = 'data/J_ApJ_716_712_tableb2.dat'\n",
    "\n",
    "\n",
    "df = pd.read_table(file, delimiter='|', skiprows=7, header=None,\n",
    "                   names=['SNe', 'S2N', 'Z', 'Bmag', 'Bmag_e', 'x1', 'x1_e', 'c', 'c_e', 'mu', 'mu_e', 'ref', 'fail'])\n",
    "\n",
    "df"
   ]
  },
  {
   "cell_type": "markdown",
   "metadata": {
    "collapsed": false
   },
   "source": [
    "### Plot the redshift (Z) vs the distance modulus (mu)\n",
    "This a classic figure for Supernova Cosmology!\n",
    "\n",
    "(Put redshift on the X axis)"
   ]
  },
  {
   "cell_type": "code",
   "execution_count": null,
   "metadata": {
    "collapsed": true
   },
   "outputs": [],
   "source": []
  },
  {
   "cell_type": "markdown",
   "metadata": {},
   "source": [
    "## BONUS\n",
    "You could also convert $\\mu$ to distance, using the formula:\n",
    "\n",
    "$\\mu = 5 \\log_{10}(d) - 5$, \n",
    "\n",
    "where $d$ is in parsec.\n",
    "\n",
    "\n",
    "You could also convert redshift ($z$) into velocity, using the approximation:\n",
    "\n",
    "$v = c z$\n",
    "\n",
    "where $c$ is the speed of light.\n",
    "\n",
    "Now make the same diagram with units of Mpc (millions of pc) on the y-axis, and km/s on the X-axis\n",
    "\n",
    "Fit a line to this data. What is the slope?"
   ]
  },
  {
   "cell_type": "code",
   "execution_count": null,
   "metadata": {
    "collapsed": true
   },
   "outputs": [],
   "source": []
  },
  {
   "cell_type": "markdown",
   "metadata": {},
   "source": [
    "# Polynomial Fits\n",
    "\n",
    "Let's try to fit the data using a simple polynomial fit function, built in to numpy...\n",
    "\n",
    "**Experiment with different fit orders**"
   ]
  },
  {
   "cell_type": "code",
   "execution_count": null,
   "metadata": {
    "collapsed": false
   },
   "outputs": [],
   "source": [
    "ok = np.isfinite(df['mu']) # you'll want to make this cut to get rid of missing data!\n",
    "\n",
    "DEG = 1 # this is the order of polynomial you want to fit\n",
    "fit = np.polyfit(df['XAXIS'][ok], df['YAXIS'][ok], DEG)\n",
    "\n",
    "plt.scatter(df['XAXIS'][ok], df['YAXIS'][ok]) # plot the data again (as above)\n",
    "\n",
    "# now plot the FIT to the data...\n",
    "plt.plot(df['XAXIS'][ok], np.polyval(fit, df['XAXIS'][ok]), \n",
    "         color='red', lw=3)\n",
    "\n"
   ]
  },
  {
   "cell_type": "markdown",
   "metadata": {},
   "source": [
    "# Powerlaw Fit\n",
    "\n",
    "It turns out we happen to know a bit about the physics of what we're looking at... so let's use that to make a smarter fit! In this case, the Y-axis (distance modulus) is in magnitudes, a logarithmic unit. Let's convert the X-axis to a log scaling and fit a straight line.\n",
    "\n",
    "Note: this isn't *exactly* the same as fitting a true powerlaw to the data, but it's a good illustration. \n",
    "We're going to cheat a bit and fit the $\\log_{10}(Z)$ space with a line\n"
   ]
  },
  {
   "cell_type": "code",
   "execution_count": null,
   "metadata": {
    "collapsed": false
   },
   "outputs": [],
   "source": [
    "fit2 = np.polyfit(np.log10(df['XAXIS'][ok]), df['YAXIS'][ok], 1)\n",
    "\n",
    "plt.scatter(df['XAXIS'][ok], df['YAXIS'][ok]) # plot the data again (as above)\n",
    "\n",
    "# now plot the FIT to the data...\n",
    "plt.plot(df['XAXIS'][ok], np.polyval(fit2, np.log10(df['XAXIS'][ok])), \n",
    "         color='red', lw=3)\n",
    "\n"
   ]
  },
  {
   "cell_type": "code",
   "execution_count": null,
   "metadata": {
    "collapsed": true
   },
   "outputs": [],
   "source": []
  },
  {
   "cell_type": "markdown",
   "metadata": {},
   "source": [
    "# Compare Fits\n",
    "\n",
    "- Calculate the $\\chi^2$ for the fits\n",
    "    - $\\chi^2 = 1/n$ $\\Sigma$ ((data - model) / errors)$^2$\n",
    "- Calculate the BIC\n",
    "    - BIC = $\\chi^2 + k$ $ln(n)$, where $k$ is the # of degrees of freedom in the model, $n$ the # of data points\n",
    "    - https://en.wikipedia.org/wiki/Bayesian_information_criterion\n",
    "- Which model is the \"best\"?\n",
    "- the error on the distance modulus is the \"mu_e\" column of data"
   ]
  },
  {
   "cell_type": "code",
   "execution_count": null,
   "metadata": {
    "collapsed": true
   },
   "outputs": [],
   "source": []
  },
  {
   "cell_type": "markdown",
   "metadata": {},
   "source": [
    "# Fit a Gaussian\n",
    "\n",
    "Now let's branch out and fit another function. Today we'll keep it simple and just fit a simple Gaussian curve. BUT, you could do this approach to fit ANY function you can write down."
   ]
  },
  {
   "cell_type": "code",
   "execution_count": null,
   "metadata": {
    "collapsed": true
   },
   "outputs": [],
   "source": [
    "# STEP 1: make a method that produces a function\n",
    "\n",
    "def gaus(x, a, b, x0, sigma):\n",
    "    \"\"\"\n",
    "    Simple Gaussian function\n",
    "\n",
    "    Parameters\n",
    "    ----------\n",
    "    x : float or 1-d numpy array\n",
    "        The data to evaluate the Gaussian over\n",
    "    a : float\n",
    "        the amplitude\n",
    "    b : float\n",
    "        the constant offset\n",
    "    x0 : float\n",
    "        the center of the Gaussian\n",
    "    sigma : float\n",
    "        the width of the Gaussian\n",
    "\n",
    "    Returns\n",
    "    -------\n",
    "    Array or float of same type as input (x).\n",
    "    \"\"\"\n",
    "    return a * np.exp(-(x - x0)**2 / (2 * sigma**2)) + b\n"
   ]
  },
  {
   "cell_type": "markdown",
   "metadata": {},
   "source": [
    "### This data is from the Sloan Digital Sky Survey. \n",
    "\n",
    "We're going to read in the spectrum of a Quasar and determine the redshift!\n",
    "\n",
    "To do this, we'll fit an emission line with a gaussian to measure the wavelength center (x0 in the function above)"
   ]
  },
  {
   "cell_type": "code",
   "execution_count": null,
   "metadata": {
    "collapsed": false
   },
   "outputs": [],
   "source": [
    "# read the data in, just like last week...\n",
    "dfile = 'data/spec-3819-55540-0186.fits'\n",
    "\n",
    "hdulist = fits.open(dfile)\n",
    "tbl = hdulist[1].data\n",
    "hdr = hdulist[0].header\n",
    "# tbl.columns\n",
    "flux = tbl['flux']"
   ]
  },
  {
   "cell_type": "markdown",
   "metadata": {},
   "source": [
    "### note the Flux is given, but NOT the wavelength... hmmm"
   ]
  },
  {
   "cell_type": "code",
   "execution_count": null,
   "metadata": {
    "collapsed": false
   },
   "outputs": [],
   "source": [
    "# SDSS spectra have many parameters in their \"header\" that define the properties of the spectrum.\n",
    "# We'll use 2 of these to figure out the wavelength!\n",
    "hdr"
   ]
  },
  {
   "cell_type": "code",
   "execution_count": null,
   "metadata": {
    "collapsed": true
   },
   "outputs": [],
   "source": [
    "# here is how you create the \"log-linear\" wavelength data using these header keywords\n",
    "wave = 10. ** (np.arange(0,len(flux)) * hdr['COEFF1'] + hdr['COEFF0'])\n",
    "\n",
    "# this may be useful to you someday!! Remember it"
   ]
  },
  {
   "cell_type": "markdown",
   "metadata": {},
   "source": [
    "### Plot the spectrum..."
   ]
  },
  {
   "cell_type": "code",
   "execution_count": null,
   "metadata": {
    "collapsed": false,
    "scrolled": true
   },
   "outputs": [],
   "source": [
    "plt.figure(figsize=(11,5))\n",
    "plt.plot( )\n",
    "plt.xlim(5000,6000)"
   ]
  },
  {
   "cell_type": "markdown",
   "metadata": {},
   "source": [
    "### Now fit the gaussian using SciPy's Curve_Fit method\n",
    "\n",
    "There are 2 good tricks to doing this:\n",
    "\n",
    "1. Give the function a reasonable initial guess (p0 below)\n",
    "2. only fit the data with a small range of the emission line you care about"
   ]
  },
  {
   "cell_type": "code",
   "execution_count": null,
   "metadata": {
    "collapsed": false
   },
   "outputs": [],
   "source": [
    "p0 = (1, 2, 3, 4) # LOOK at the data above for this gaussian peak, put in good guesses!\n",
    "\n",
    "# pick some limits within a few times the width of the peak, so to avoid (trying to) \n",
    "# fit the WHOLE spectrum with a single gaussian\n",
    "WMIN = 4000\n",
    "WMAX = 9000\n",
    "\n",
    "\n",
    "x = np.where((wave > WMIN) & (wave < WMAX))\n",
    "fit, cov = curve_fit(gaus, wave[x], flux[x], p0=p0)\n",
    "\n",
    "plt.figure(figsize=(11,5))\n",
    "plt.plot(wave, flux)\n",
    "plt.plot(wave, gaus(wave, *fit)) # this *fit is a trick to explode all the parameters of \"fit\" in to \"gauss\"\n"
   ]
  },
  {
   "cell_type": "markdown",
   "metadata": {},
   "source": [
    "# Compute the Redshift\n",
    "\n",
    "Recall: \n",
    "\n",
    "$1 + z = \\lambda_{obs} / \\lambda_{rest}$\n",
    "\n",
    "This is a Mg II line, with $\\lambda_{rest} = 2800.3$ Angstroms "
   ]
  },
  {
   "cell_type": "code",
   "execution_count": null,
   "metadata": {
    "collapsed": true
   },
   "outputs": [],
   "source": []
  }
 ],
 "metadata": {
  "kernelspec": {
   "display_name": "Python 2",
   "language": "python",
   "name": "python2"
  },
  "language_info": {
   "codemirror_mode": {
    "name": "ipython",
    "version": 2
   },
   "file_extension": ".py",
   "mimetype": "text/x-python",
   "name": "python",
   "nbconvert_exporter": "python",
   "pygments_lexer": "ipython2",
   "version": "2.7.13"
  }
 },
 "nbformat": 4,
 "nbformat_minor": 0
}
